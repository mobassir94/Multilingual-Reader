{
 "cells": [
  {
   "cell_type": "code",
   "execution_count": 1,
   "metadata": {},
   "outputs": [
    {
     "name": "stdout",
     "output_type": "stream",
     "text": [
      "Requirement already satisfied: PyMuPDF in c:\\programdata\\anaconda3\\envs\\test\\lib\\site-packages (1.25.3)\n"
     ]
    }
   ],
   "source": [
    "!pip install PyMuPDF"
   ]
  },
  {
   "cell_type": "code",
   "execution_count": 2,
   "metadata": {},
   "outputs": [
    {
     "name": "stdout",
     "output_type": "stream",
     "text": [
      "All_hadiths saved to Final_Mutwatir_Ahadith.txt\n"
     ]
    }
   ],
   "source": [
    "import pymupdf\n",
    "import re\n",
    "import pandas as pd\n",
    "from collections import Counter\n",
    "\n",
    "# ref : https://www.slideshare.net/slideshow/a-collection-of-mutawatir-hadith/33190237\n",
    "\n",
    "doc = pymupdf.open(\"C:\\\\Users\\\\Administrator\\\\Downloads\\\\Mutwatir Ahadith.pdf\") \n",
    "all_texts = []\n",
    "for page in doc: \n",
    "  text = page.get_text() \n",
    "  all_texts.append(text) \n",
    "\n",
    "with open(\"Final_Mutwatir_Ahadith.txt\", \"w\", encoding=\"utf-8\") as file:\n",
    "    for hadith in all_texts:\n",
    "        file.write(hadith + \"\\n\\n\") \n",
    "\n",
    "print(\"All_hadiths saved to Final_Mutwatir_Ahadith.txt\")"
   ]
  },
  {
   "cell_type": "code",
   "execution_count": 3,
   "metadata": {},
   "outputs": [
    {
     "name": "stdout",
     "output_type": "stream",
     "text": [
      "The phrase \"Sahih Muslim [Arabic only]:\" appears 320 times.\n"
     ]
    }
   ],
   "source": [
    "\n",
    "with open(\"Final_Mutwatir_Ahadith.txt\", \"r\", encoding=\"utf-8\") as file:\n",
    "    content = file.read()\n",
    "\n",
    "\n",
    "count = content.count(\"Sahih Muslim [Arabic only]:\")\n",
    "\n",
    "print(f'The phrase \"Sahih Muslim [Arabic only]:\" appears {count} times.')\n"
   ]
  },
  {
   "cell_type": "code",
   "execution_count": 4,
   "metadata": {},
   "outputs": [
    {
     "name": "stdout",
     "output_type": "stream",
     "text": [
      "[2, 10, 29, 30, 33, 41, 47, 48, 50, 52, 57, 59, 72, 73, 83, 86, 98, 140, 163, 202, 220, 226, 228, 234, 238, 239, 245, 251, 267, 269, 293, 299, 317, 322, 323, 330, 331, 337, 346, 354, 356, 362, 367, 374, 401, 402, 404, 430, 432, 439, 460, 462, 486, 487, 488, 498, 569, 586, 588, 595, 599, 609, 614, 615, 617, 625, 777, 799, 802, 805, 810, 812, 822, 823, 824, 826, 828, 832, 852, 853, 854, 856, 857, 862, 870, 872, 874, 879, 922, 923, 925, 972, 976, 1002, 1006, 1007, 1034, 1038, 1064, 1082, 1099, 1105, 1112, 1114, 1118, 1119, 1122, 1123, 1215, 1219, 1223, 1228, 1233, 1261, 1274, 1285, 1288, 1322, 1332, 1355, 1367, 1368, 1371, 1393, 1395, 1396, 1397, 1398, 1401, 1402, 1403, 1490, 1498, 1499, 1509, 1516, 1518, 1521, 1522, 1536, 1543, 1549, 1578, 1586, 1676, 1677, 1687, 1737, 1739, 1761, 1762, 1771, 1776, 1795, 1808, 1835, 1838, 1851, 1863, 1897, 1901, 2513, 1909, 1910, 1912, 1914, 2008, 2009, 2108, 2131, 2159, 2161, 2164, 2168, 2177, 2194, 2201, 2246, 2412, 2413, 2449, 2463, 2465, 2466, 2467, 2469, 2514, 2532, 2645, 2646, 2761, 2798, 2800, 2827, 2831, 2833, 2834, 2838, 2842, 2845, 2846, 2906, 2958, 2960, 2961, 2962, 3020, 3025, 3109, 3120, 3179, 3201, 3202, 3205, 3210, 3211, 3214, 3215, 3240, 3273, 3279, 3303, 3306, 3389, 3392, 3393, 3417, 3423, 3438, 3465, 3467, 3468, 3472, 3478, 3480, 3482, 3492, 3493, 3495, 3545, 3582, 3583, 3585, 3591, 3592, 3593, 3595, 3662, 3727, 3733, 3801, 3839, 3842, 3848, 3849, 3851, 3866, 3896, 3898, 3961, 3963, 3965, 3966, 3968, 3974, 3976, 3981, 4093, 4098, 4099, 4191, 4200, 4201, 4206, 4208, 4224, 4242, 4243, 4244, 4245, 4248, 4250, 4251, 4252, 4257, 4258, 4282, 4283, 4418, 4511, 4587, 4599, 4603, 4643, 4676, 4766, 4768, 4775, 4779, 4781, 4786, 4789, 5006, 5010, 5013, 5015, 5036, 5044, 5046, 5128, 5130, 5219, 5222, 5227, 5229, 5231, 5236, 5245, 5360, 5245]\n"
     ]
    }
   ],
   "source": [
    "\n",
    "numbers = re.findall(r\"Sahih Muslim \\[Arabic only\\]: (\\d+)\", content)\n",
    "numbers = [int(num) for num in numbers]\n",
    "\n",
    "print(numbers)"
   ]
  },
  {
   "cell_type": "code",
   "execution_count": 5,
   "metadata": {},
   "outputs": [
    {
     "data": {
      "text/plain": [
       "320"
      ]
     },
     "execution_count": 5,
     "metadata": {},
     "output_type": "execute_result"
    }
   ],
   "source": [
    "len(numbers)"
   ]
  },
  {
   "cell_type": "code",
   "execution_count": 6,
   "metadata": {},
   "outputs": [
    {
     "name": "stdout",
     "output_type": "stream",
     "text": [
      "The count of sequential numbers followed by a dot is: 322\n"
     ]
    }
   ],
   "source": [
    "# Find all sequential numbers followed by a dot (e.g., 1., 2., 3., ...)\n",
    "matches = re.findall(r\"\\b\\d+\\.\", content)\n",
    "\n",
    "# Count the occurrences\n",
    "count = len(matches)\n",
    "\n",
    "print(f'The count of sequential numbers followed by a dot is: {count}')"
   ]
  },
  {
   "cell_type": "markdown",
   "metadata": {},
   "source": [
    "There are total of 322 hadiths but ocr could extract only 320 hadith numbers,lets try to find missing 2 hadiths\n"
   ]
  },
  {
   "cell_type": "code",
   "execution_count": 7,
   "metadata": {},
   "outputs": [
    {
     "name": "stdout",
     "output_type": "stream",
     "text": [
      "................IDX.......................  91\n",
      "Abu Hurairah, may Allah be pleased with him, reported: The Messenger of Allah \n",
      "(may peace be upon him) said: When anyone of you utters Tashahhud (in the \n",
      "Prayer) he must seek refuge with Allah from four (trials) and should thus say: O \n",
      "Allah! I seek refuge with You from the torment of Hell, from the torment of the \n",
      "grave, from the trial of life and death and from the evil of the trial of Messiah Al-\n",
      "Dajjal(Antichrist). \n",
      " \n",
      "\n",
      "................IDX.......................  110\n",
      "  I did not see the Messenger of Allah (may peace be upon him) reciting (the \n",
      "Qur'an) in the Night … \n",
      "'A'ishah, may Allah be pleased with her, reported: I did not see the Messenger of Allah (may \n",
      "peace be upon him) reciting (the Qur'an) in the Night Prayer in a sitting position, till he \n",
      "grew old and then he recited (it) in a sitting position, but when thirty or forty verses were \n",
      "left out of the surah, he would then stand up, recite them and bow down. \n",
      "\n",
      "Paragraphs that do not end with 'Sahih Muslim [Arabic only]:' are: [91, 110]\n"
     ]
    }
   ],
   "source": [
    "\n",
    "with open(\"Final_Mutwatir_Ahadith.txt\", \"r\", encoding=\"utf-8\") as file:\n",
    "    content = file.read()\n",
    "\n",
    "# Split content based on numbered paragraphs (e.g., \"1. \", \"2. \", \"3. \" etc.)\n",
    "paragraphs = re.split(r\"(?<=\\n)\\d+\\.\\s\", content)\n",
    "\n",
    "# Track paragraph numbers\n",
    "invalid_paragraphs = []\n",
    "\n",
    "for i, para in enumerate(paragraphs[1:], start=1):  # Skipping the first split (empty before 1.)\n",
    "    number = re.findall(r\"Sahih Muslim \\[Arabic only\\]: (\\d+)\", para)\n",
    "    if len(number) < 1:\n",
    "        print(f\"................IDX....................... \",i)\n",
    "        print(para)\n",
    "        invalid_paragraphs.append(i)\n",
    "\n",
    "# Print paragraphs that do not end with the phrase\n",
    "print(\"Paragraphs that do not end with 'Sahih Muslim [Arabic only]:' are:\", invalid_paragraphs)\n"
   ]
  },
  {
   "cell_type": "markdown",
   "metadata": {},
   "source": [
    "Well as we can see that from the pdf file 91st and 110th hadith doesn't end with 'Sahih Muslim [Arabic only]:' phrase as reference"
   ]
  },
  {
   "cell_type": "code",
   "execution_count": 8,
   "metadata": {},
   "outputs": [
    {
     "name": "stdout",
     "output_type": "stream",
     "text": [
      "Total numbers: 320\n",
      "Unique numbers: 319\n"
     ]
    }
   ],
   "source": [
    "unique_numbers = set(numbers)  # Convert list to a set to remove duplicates\n",
    "\n",
    "# Count the unique numbers\n",
    "unique_count = len(unique_numbers)\n",
    "print(f\"Total numbers: {len(numbers)}\")\n",
    "print(f\"Unique numbers: {unique_count}\")\n"
   ]
  },
  {
   "cell_type": "markdown",
   "metadata": {},
   "source": [
    "let's find the duplicate hadith"
   ]
  },
  {
   "cell_type": "code",
   "execution_count": 9,
   "metadata": {},
   "outputs": [
    {
     "name": "stdout",
     "output_type": "stream",
     "text": [
      "Duplicate numbers and their occurrences:\n",
      "Number 5245 appears 2 times\n"
     ]
    }
   ],
   "source": [
    "\n",
    "number_counts = Counter(numbers)\n",
    "\n",
    "duplicates = {num: count for num, count in number_counts.items() if count > 1}\n",
    "\n",
    "print(\"Duplicate numbers and their occurrences:\")\n",
    "for num, count in duplicates.items():\n",
    "    print(f\"Number {num} appears {count} times\")\n"
   ]
  },
  {
   "cell_type": "markdown",
   "metadata": {},
   "source": [
    "first i thought it's mistake of OCR but after manually checking the pdf file i can confirm that 320 and 322 number hadith refers to same 5245 number hadith from sahih muslim book"
   ]
  },
  {
   "cell_type": "code",
   "execution_count": 10,
   "metadata": {},
   "outputs": [
    {
     "data": {
      "text/plain": [
       "'و حَدَّثَنَا عُبَيْدُ اللَّهِ بْنُ مُعَاذٍ الْعَنْبَرِيُّ حَدَّثَنَا أَبِي ح و حَدَّثَنَا مُحَمَّدُ بْنُ الْمُثَنَّى حَدَّثَنَا عَبْدُ الرَّحْمَنِ بْنُ مَهْدِيٍّ قَالَا حَدَّثَنَا شُعْبَةُ عَنْ خُبَيْبِ بْنِ عَبْدِ الرَّحْمَنِ عَنْ حَفْصِ بْنِ عَاصِمٍ قَالَ قَالَ رَسُولُ اللَّهِ صَلَّى اللَّهُ عَلَيْهِ وَسَلَّمَ كَفَى بِالْمَرْءِ كَذِبًا أَنْ يُحَدِّثَ بِكُلِّ مَا سَمِعَ و حَدَّثَنَا أَبُو بَكْرِ بْنُ أَبِي شَيْبَةَ حَدَّثَنَا عَلِيُّ بْنُ حَفْصٍ حَدَّثَنَا شُعْبَةُ عَنْ خُبَيْبِ بْنِ عَبْدِ الرَّحْمَنِ عَنْ حَفْصِ بْنِ عَاصِمٍ عَنْ أَبِي هُرَيْرَةَ عَنْ النَّبِيِّ صَلَّى اللَّهُ عَلَيْهِ وَسَلَّمَ بِمِثْلِ ذَلِكَ.'"
      ]
     },
     "execution_count": 10,
     "metadata": {},
     "output_type": "execute_result"
    }
   ],
   "source": [
    "# collected the data from : https://www.kaggle.com/datasets/abdokamr/arabic-hadith\n",
    "muslim = pd.read_csv(\"Sahih Muslim.csv\")\n",
    "muslim['Sahih Muslim'][5]"
   ]
  },
  {
   "cell_type": "markdown",
   "metadata": {},
   "source": [
    "Make Final_Mutwatir_Ahadith.csv file for all 322 hadiths"
   ]
  },
  {
   "cell_type": "code",
   "execution_count": 11,
   "metadata": {},
   "outputs": [
    {
     "data": {
      "text/html": [
       "<div>\n",
       "<style scoped>\n",
       "    .dataframe tbody tr th:only-of-type {\n",
       "        vertical-align: middle;\n",
       "    }\n",
       "\n",
       "    .dataframe tbody tr th {\n",
       "        vertical-align: top;\n",
       "    }\n",
       "\n",
       "    .dataframe thead th {\n",
       "        text-align: right;\n",
       "    }\n",
       "</style>\n",
       "<table border=\"1\" class=\"dataframe\">\n",
       "  <thead>\n",
       "    <tr style=\"text-align: right;\">\n",
       "      <th></th>\n",
       "      <th>hadith number</th>\n",
       "      <th>hadith</th>\n",
       "    </tr>\n",
       "  </thead>\n",
       "  <tbody>\n",
       "    <tr>\n",
       "      <th>0</th>\n",
       "      <td>2</td>\n",
       "      <td>و حَدَّثَنَا أَبُو بَكْرِ بْنُ أَبِي شَيْبَةَ ...</td>\n",
       "    </tr>\n",
       "    <tr>\n",
       "      <th>1</th>\n",
       "      <td>10</td>\n",
       "      <td>و حَدَّثَنَا أَبُو بَكْرِ بْنُ أَبِي شَيْبَةَ ...</td>\n",
       "    </tr>\n",
       "    <tr>\n",
       "      <th>2</th>\n",
       "      <td>29</td>\n",
       "      <td>حَدَّثَنَا قُتَيْبَةُ بْنُ سَعِيدٍ حَدَّثَنَا ...</td>\n",
       "    </tr>\n",
       "    <tr>\n",
       "      <th>3</th>\n",
       "      <td>30</td>\n",
       "      <td>و حَدَّثَنَا أَبُو الطَّاهِرِ وَحَرْمَلَةُ بْن...</td>\n",
       "    </tr>\n",
       "    <tr>\n",
       "      <th>4</th>\n",
       "      <td>33</td>\n",
       "      <td>حَدَّثَنَا أَبُو غَسَّانَ الْمِسْمَعِىُّ مَالِ...</td>\n",
       "    </tr>\n",
       "    <tr>\n",
       "      <th>...</th>\n",
       "      <td>...</td>\n",
       "      <td>...</td>\n",
       "    </tr>\n",
       "    <tr>\n",
       "      <th>315</th>\n",
       "      <td>5231</td>\n",
       "      <td>حَدَّثَنَا شِهَابُ بْنُ عَبَّادٍ الْعَبْدِيُّ ...</td>\n",
       "    </tr>\n",
       "    <tr>\n",
       "      <th>316</th>\n",
       "      <td>5236</td>\n",
       "      <td>حَدَّثَنِي عَلِيُّ بْنُ حُجْرٍ السَّعْدِيُّ حَ...</td>\n",
       "    </tr>\n",
       "    <tr>\n",
       "      <th>317</th>\n",
       "      <td>5245</td>\n",
       "      <td>حَدَّثَنَا مُحَمَّدُ بْنُ الْمُثَنَّى وَمُحَمّ...</td>\n",
       "    </tr>\n",
       "    <tr>\n",
       "      <th>318</th>\n",
       "      <td>5360</td>\n",
       "      <td>حَدَّثَنَا أَبُو بَكْرِ بْنُ أَبِي شَيْبَةَ حَ...</td>\n",
       "    </tr>\n",
       "    <tr>\n",
       "      <th>319</th>\n",
       "      <td>5245</td>\n",
       "      <td>حَدَّثَنَا مُحَمَّدُ بْنُ الْمُثَنَّى وَمُحَمّ...</td>\n",
       "    </tr>\n",
       "  </tbody>\n",
       "</table>\n",
       "<p>320 rows × 2 columns</p>\n",
       "</div>"
      ],
      "text/plain": [
       "     hadith number                                             hadith\n",
       "0                2  و حَدَّثَنَا أَبُو بَكْرِ بْنُ أَبِي شَيْبَةَ ...\n",
       "1               10  و حَدَّثَنَا أَبُو بَكْرِ بْنُ أَبِي شَيْبَةَ ...\n",
       "2               29  حَدَّثَنَا قُتَيْبَةُ بْنُ سَعِيدٍ حَدَّثَنَا ...\n",
       "3               30  و حَدَّثَنَا أَبُو الطَّاهِرِ وَحَرْمَلَةُ بْن...\n",
       "4               33  حَدَّثَنَا أَبُو غَسَّانَ الْمِسْمَعِىُّ مَالِ...\n",
       "..             ...                                                ...\n",
       "315           5231  حَدَّثَنَا شِهَابُ بْنُ عَبَّادٍ الْعَبْدِيُّ ...\n",
       "316           5236  حَدَّثَنِي عَلِيُّ بْنُ حُجْرٍ السَّعْدِيُّ حَ...\n",
       "317           5245  حَدَّثَنَا مُحَمَّدُ بْنُ الْمُثَنَّى وَمُحَمّ...\n",
       "318           5360  حَدَّثَنَا أَبُو بَكْرِ بْنُ أَبِي شَيْبَةَ حَ...\n",
       "319           5245  حَدَّثَنَا مُحَمَّدُ بْنُ الْمُثَنَّى وَمُحَمّ...\n",
       "\n",
       "[320 rows x 2 columns]"
      ]
     },
     "execution_count": 11,
     "metadata": {},
     "output_type": "execute_result"
    }
   ],
   "source": [
    "hadith_data = []\n",
    "for num in numbers:\n",
    "    hadith = muslim['Sahih Muslim'][num-1]\n",
    "    hadith_data.append([num, hadith])\n",
    "\n",
    "hadith_df = pd.DataFrame(hadith_data, columns=[\"hadith number\", \"hadith\"])\n",
    "hadith_df.to_csv(\"Mutawatir_sahih_muslim.csv\", index=False)\n",
    "hadith_df"
   ]
  },
  {
   "cell_type": "code",
   "execution_count": 12,
   "metadata": {},
   "outputs": [
    {
     "data": {
      "text/plain": [
       "'و حَدَّثَنَا أَبُو بَكْرِ بْنُ أَبِي شَيْبَةَ وَزُهَيْرُ بْنُ حَرْبٍ جَمِيعًا عَنْ ابْنِ عُلَيَّةَ قَالَ زُهَيْرٌ حَدَّثَنَا إِسْمَعِيلُ بْنُ إِبْرَاهِيمَ عَنْ أَبِي حَيَّانَ عَنْ أَبِي زُرْعَةَ بْنِ عَمْرِو بْنِ جَرِيرٍ عَنْ أَبِي هُرَيْرَةَ قَالَ كَانَ رَسُولُ اللَّهِ صَلَّى اللَّهُ عَلَيْهِ وَسَلَّمَ يَوْمًا بَارِزًا لِلنَّاسِ فَأَتَاهُ رَجُلٌ فَقَالَ يَا رَسُولَ اللَّهِ مَا الْإِيمَانُ قَالَ أَنْ تُؤْمِنَ بِاللَّهِ وَمَلَائِكَتِهِ وَكِتَابِهِ وَلِقَائِهِ وَرُسُلِهِ وَتُؤْمِنَ بِالْبَعْثِ الْآخِرِ قَالَ يَا رَسُولَ اللَّهِ مَا الْإِسْلَامُ قَالَ الْإِسْلَامُ أَنْ تَعْبُدَ اللَّهَ وَلَا تُشْرِكَ بِهِ شَيْئًا وَتُقِيمَ الصَّلَاةَ الْمَكْتُوبَةَ وَتُؤَدِّيَ الزَّكَاةَ الْمَفْرُوضَةَ وَتَصُومَ رَمَضَانَ قَالَ يَا رَسُولَ اللَّهِ مَا الْإِحْسَانُ قَالَ أَنْ تَعْبُدَ اللَّهَ كَأَنَّكَ تَرَاهُ فَإِنَّكَ إِنْ لَا تَرَاهُ فَإِنَّهُ يَرَاكَ قَالَ يَا رَسُولَ اللَّهِ مَتَى السَّاعَةُ قَالَ مَا الْمَسْئُولُ عَنْهَا بِأَعْلَمَ مِنْ السَّائِلِ وَلَكِنْ سَأُحَدِّثُكَ عَنْ أَشْرَاطِهَا إِذَا وَلَدَتْ الْأَمَةُ رَبَّهَا فَذَاكَ مِنْ أَشْرَاطِهَا وَإِذَا كَانَتْ الْعُرَاةُ الْحُفَاةُ رُءُوسَ النَّاسِ فَذَاكَ مِنْ أَشْرَاطِهَا وَإِذَا تَطَاوَلَ رِعَاءُ الْبَهْمِ فِي الْبُنْيَانِ فَذَاكَ مِنْ أَشْرَاطِهَا فِي خَمْسٍ لَا يَعْلَمُهُنَّ إِلَّا اللَّهُ ثُمَّ تَلَا صَلَّى اللَّهُ عَلَيْهِ وَسَلَّمَ { إِنَّ اللَّهَ عِنْدَهُ عِلْمُ السَّاعَةِ وَيُنَزِّلُ الْغَيْثَ وَيَعْلَمُ مَا فِي الْأَرْحَامِ وَمَا تَدْرِي نَفْسٌ مَاذَا تَكْسِبُ غَدًا وَمَا تَدْرِي نَفْسٌ بِأَيِّ أَرْضٍ تَمُوتُ إِنَّ اللَّهَ عَلِيمٌ خَبِيرٌ } قَالَ ثُمَّ أَدْبَرَ الرَّجُلُ فَقَالَ رَسُولُ اللَّهِ صَلَّى اللَّهُ عَلَيْهِ وَسَلَّمَ رُدُّوا عَلَيَّ الرَّجُلَ فَأَخَذُوا لِيَرُدُّوهُ فَلَمْ يَرَوْا شَيْئًا فَقَالَ رَسُولُ اللَّهِ صَلَّى اللَّهُ عَلَيْهِ وَسَلَّمَ هَذَا جِبْرِيلُ جَاءَ لِيُعَلِّمَ النَّاسَ دِينَهُمْ حَدَّثَنَا مُحَمَّدُ بْنُ عَبْدِ اللَّهِ بْنِ نُمَيْرٍ حَدَّثَنَا مُحَمَّدُ بْنُ بِشْرٍ حَدَّثَنَا أَبُو حَيَّانَ التَّيْمِيُّ بِهَذَا الْإِسْنَادِ مِثْلَهُ غَيْرَ أَنَّ فِي رِوَايَتِهِ إِذَا وَلَدَتْ الْأَمَةُ بَعْلَهَا يَعْنِي السَّرَارِيَّ.'"
      ]
     },
     "execution_count": 12,
     "metadata": {},
     "output_type": "execute_result"
    }
   ],
   "source": [
    "hadith_df.hadith[1]"
   ]
  },
  {
   "cell_type": "code",
   "execution_count": null,
   "metadata": {},
   "outputs": [],
   "source": []
  }
 ],
 "metadata": {
  "kernelspec": {
   "display_name": "test",
   "language": "python",
   "name": "python3"
  },
  "language_info": {
   "codemirror_mode": {
    "name": "ipython",
    "version": 3
   },
   "file_extension": ".py",
   "mimetype": "text/x-python",
   "name": "python",
   "nbconvert_exporter": "python",
   "pygments_lexer": "ipython3",
   "version": "3.12.8"
  }
 },
 "nbformat": 4,
 "nbformat_minor": 2
}
