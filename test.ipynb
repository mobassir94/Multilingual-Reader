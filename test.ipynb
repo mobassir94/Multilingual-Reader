{
 "cells": [
  {
   "cell_type": "code",
   "execution_count": null,
   "metadata": {},
   "outputs": [],
   "source": [
    "import numpy as np \n",
    "import cv2 \n",
    "import matplotlib.pyplot as plt \n",
    "import os\n",
    "from glob import glob "
   ]
  },
  {
   "cell_type": "code",
   "execution_count": null,
   "metadata": {},
   "outputs": [],
   "source": [
    "from coreLib.ocr import MultilingualReader\n",
    "reader=MultilingualReader()"
   ]
  },
  {
   "cell_type": "code",
   "execution_count": null,
   "metadata": {},
   "outputs": [],
   "source": [
    "reader(\"tests/quran.png\")\n",
    "\n"
   ]
  },
  {
   "cell_type": "code",
   "execution_count": null,
   "metadata": {},
   "outputs": [],
   "source": [
    "# crop_dict=text_dict[3]\n",
    "# for k,v in crop_dict.items():\n",
    "#     if k!=\"crop\":\n",
    "#         print(k,\":\",v+1)\n",
    "#     else:\n",
    "#         plt.imshow(v)\n",
    "#         plt.show()"
   ]
  },
  {
   "cell_type": "code",
   "execution_count": null,
   "metadata": {},
   "outputs": [],
   "source": [
    "img_path=\"/home/ansary/WORK/Research/Multilingual-Reader/tests/tafsiribnkathir_part1_page_105.png\"\n",
    "img=cv2.imread(img_path)\n",
    "img=cv2.cvtColor(img,cv2.COLOR_BGR2RGB)\n",
    "print(\"read\")\n"
   ]
  },
  {
   "cell_type": "code",
   "execution_count": null,
   "metadata": {},
   "outputs": [],
   "source": [
    "line_boxes,_=reader.det.detect(img,reader.line_en)\n",
    "print(\"line\")\n",
    "        "
   ]
  },
  {
   "cell_type": "code",
   "execution_count": null,
   "metadata": {},
   "outputs": [],
   "source": []
  }
 ],
 "metadata": {
  "interpreter": {
   "hash": "fa698ee2b63d7d9ca484c25f2c4abdab749001148ee3eec7b444cd3f3797d0a5"
  },
  "kernelspec": {
   "display_name": "Python 3.8.13 ('mlreader')",
   "language": "python",
   "name": "python3"
  },
  "language_info": {
   "codemirror_mode": {
    "name": "ipython",
    "version": 3
   },
   "file_extension": ".py",
   "mimetype": "text/x-python",
   "name": "python",
   "nbconvert_exporter": "python",
   "pygments_lexer": "ipython3",
   "version": "3.8.13"
  },
  "orig_nbformat": 4
 },
 "nbformat": 4,
 "nbformat_minor": 2
}
